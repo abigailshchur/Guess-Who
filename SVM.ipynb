{
 "cells": [
  {
   "cell_type": "code",
   "execution_count": 35,
   "metadata": {
    "collapsed": false
   },
   "outputs": [],
   "source": [
    "from sklearn import datasets, svm, metrics\n",
    "import csv\n",
    "from os import rename, listdir, makedirs\n",
    "from os.path import isfile, join\n",
    "import os\n",
    "import random\n",
    "from shutil import copyfile\n",
    "import glob\n",
    "import pandas as pd\n",
    "from numpy import genfromtxt\n",
    "from IPython.display import Image, display\n",
    "from StringIO import StringIO\n",
    "import cv2\n",
    "from sklearn.feature_extraction import image\n",
    "import numpy as np\n",
    "#from PIL import Image\n",
    "import Image\n",
    "from svgpathtools import svg2paths, wsvg\n",
    "from sklearn import linear_model"
   ]
  },
  {
   "cell_type": "code",
   "execution_count": 2,
   "metadata": {
    "collapsed": false
   },
   "outputs": [],
   "source": [
    "all_images = [f for f in listdir(\"./all_images/\") if isfile(join(\"./all_images/\", f))]\n",
    "labels = pd.read_csv(\"pics3_labeling-100v2.csv\")"
   ]
  },
  {
   "cell_type": "code",
   "execution_count": 3,
   "metadata": {
    "collapsed": false
   },
   "outputs": [],
   "source": [
    "matrix = genfromtxt('matrix.csv', delimiter=',').T"
   ]
  },
  {
   "cell_type": "code",
   "execution_count": 4,
   "metadata": {
    "collapsed": false
   },
   "outputs": [
    {
     "data": {
      "text/plain": [
       "(100, 4000)"
      ]
     },
     "execution_count": 4,
     "metadata": {},
     "output_type": "execute_result"
    }
   ],
   "source": [
    "np.shape(matrix)"
   ]
  },
  {
   "cell_type": "code",
   "execution_count": 5,
   "metadata": {
    "collapsed": false
   },
   "outputs": [],
   "source": [
    "#display(Image(filename=\"./all_images/\"+all_images[0]))"
   ]
  },
  {
   "cell_type": "code",
   "execution_count": 53,
   "metadata": {
    "collapsed": false
   },
   "outputs": [],
   "source": [
    "X = np.zeros(np.shape(matrix))\n",
    "all_names = labels[\"Name\"]\n",
    "isMale = labels[\"teeth\"]\n",
    "img_to_label = {}\n",
    "for i in range(len(all_names)):\n",
    "    name_i = all_names[i]\n",
    "    for j in range(len(all_images)):\n",
    "        name_j = all_images[j]\n",
    "        if name_i[:len(name_i)-1]==name_j[:len(name_j)-9]:\n",
    "            if isMale[i]==\"Y\":\n",
    "                img_to_label[name_j] = True\n",
    "            else:\n",
    "                img_to_label[name_j] = False"
   ]
  },
  {
   "cell_type": "code",
   "execution_count": 54,
   "metadata": {
    "collapsed": false
   },
   "outputs": [
    {
     "data": {
      "text/plain": [
       "{'Agnes_Bruckner_0001.jpg': False,\n",
       " 'Ahmed_Lopez_0001.jpg': False,\n",
       " 'Albert_Montanes_0001.jpg': True,\n",
       " 'Alejandro_Toledo_0001.jpg': False,\n",
       " 'Alex_Holmes_0001.jpg': True,\n",
       " 'Ali_Bin_Hussein_0001.jpg': True,\n",
       " 'Andrew_Niccol_0001.jpg': False,\n",
       " 'Antonio_Palocci_0001.jpg': False,\n",
       " 'Arnold_Palmer_0001.jpg': False,\n",
       " 'Arnoldo_Aleman_0001.jpg': False,\n",
       " 'Arye_Mekel_0001.jpg': False,\n",
       " 'Biljana_Plavsic_0001.jpg': False,\n",
       " 'Bob_Ferguson_0001.jpg': True,\n",
       " 'Brenda_Wilson_0001.jpg': True,\n",
       " 'Bruce_Weber_0001.jpg': True,\n",
       " 'Cathryn_Crawford_0001.jpg': False,\n",
       " 'Cesar_Gaviria_0001.jpg': False,\n",
       " 'Daniel_Osorno_0001.jpg': True,\n",
       " 'Daniele_Hypolito_0001.jpg': True,\n",
       " 'Daryl_Jones_0001.jpg': True,\n",
       " 'David_Obey_0001.jpg': False,\n",
       " 'Desmon_Farmer_0001.jpg': True,\n",
       " 'Diana_Ross_0001.jpg': False,\n",
       " 'Dominik_Garcia-Lorido_0001.jpg': True,\n",
       " 'Don_Carcieri_0001.jpg': True,\n",
       " 'Doug_Racine_0001.jpg': False,\n",
       " 'Emily_Mortimer_0001.jpg': False,\n",
       " 'Fernando_Sanz_0001.jpg': False,\n",
       " 'Fidel_Castro_Daiz-Balart_0001.jpg': False,\n",
       " 'Florencia_Macri_0001.jpg': False,\n",
       " 'Frank_Cassell_0001.jpg': False,\n",
       " 'Gaston_Gaudio_0001.jpg': False,\n",
       " 'Gregor_Gysi_0001.jpg': True,\n",
       " 'Hama_Arba_Diallo_0001.jpg': True,\n",
       " 'Hatsui_Hasuike_0001.jpg': False,\n",
       " 'Henning_Scherf_0001.jpg': False,\n",
       " 'Hubert_Green_0001.jpg': False,\n",
       " 'Hugh_Carey_0001.jpg': False,\n",
       " 'Igor_Ivanov_0001.jpg': False,\n",
       " 'Jack_LaLanne_0001.jpg': False,\n",
       " 'Jan_Pronk_0001.jpg': False,\n",
       " 'Jerry_Jones_0001.jpg': False,\n",
       " 'Jerry_Springer_0001.jpg': False,\n",
       " 'Jessica_Lange_0001.jpg': True,\n",
       " 'Jim_Anderson_0001.jpg': True,\n",
       " 'Job_Cohen_0001.jpg': False,\n",
       " 'John_Baldacci_0001.jpg': False,\n",
       " 'Johnny_Tapia_0001.jpg': False,\n",
       " 'Jose_Serra_0001.jpg': True,\n",
       " 'Judy_Dean_0001.jpg': True,\n",
       " 'Juergen_Chrobog_0001.jpg': False,\n",
       " 'Julio_Rossi_0001.jpg': False,\n",
       " 'Kathleen_Kennedy_Townsend_0001.jpg': True,\n",
       " 'Koichi_Haraguchi_0001.jpg': False,\n",
       " 'Laurie_Laychak_0001.jpg': False,\n",
       " 'Leisel_Jones_0001.jpg': True,\n",
       " 'Lesley_Coppin_0001.jpg': False,\n",
       " 'Lili_Marinho_0001.jpg': False,\n",
       " 'Lisa_Ling_0001.jpg': True,\n",
       " 'Loretta_Lynn_Harper_0001.jpg': False,\n",
       " 'Luke_Ridnour_0001.jpg': True,\n",
       " 'Mario_Cipollini_0001.jpg': False,\n",
       " 'Marsah_Ambrosius_0001.jpg': True,\n",
       " 'Marsha_Thomason_0001.jpg': True,\n",
       " 'Mary_Maddux_0001.jpg': False,\n",
       " 'Michael_Weiss_0001.jpg': True,\n",
       " 'Mike_Farrar_0001.jpg': False,\n",
       " 'Mireille_Jospin-Dandieu_0001.jpg': False,\n",
       " 'Missy_Crider_0001.jpg': True,\n",
       " 'Mitchell_Crooks_0001.jpg': False,\n",
       " 'Mo_Elleithee_0001.jpg': False,\n",
       " 'Mohamed_Seineldin_0001.jpg': False,\n",
       " 'Nur_Jaafar_0001.jpg': False,\n",
       " 'Peter_Hillary_0001.jpg': True,\n",
       " 'Prince_Philippe_0001.jpg': False,\n",
       " 'Quin_Snyder_0001.jpg': True,\n",
       " 'Ramiro_Goben_Reducindo_0001.jpg': True,\n",
       " 'Rick_Husband_0001.jpg': True,\n",
       " 'Robert_Nardelli_0001.jpg': True,\n",
       " 'Robert_Wagner_0001.jpg': True,\n",
       " 'Roger_Etchegaray_0001.jpg': False,\n",
       " 'Rosalyn_Carter_0001.jpg': True,\n",
       " 'Roy_Halladay_0001.jpg': False,\n",
       " 'Saman_Shali_0001.jpg': True,\n",
       " 'Samuel_Waksal_0001.jpg': False,\n",
       " 'Sarah_Wynter_0001.jpg': False,\n",
       " 'Sergei_Alexandrovitch_Ordzhonikidze_0001.jpg': False,\n",
       " 'Shane_Hmiel_0001.jpg': False,\n",
       " 'Shimon_Peres_0001.jpg': False,\n",
       " 'Sid_Caesar_0001.jpg': False,\n",
       " 'Stacey_Yamaguchi_0001.jpg': False,\n",
       " 'Stephen_Push_0001.jpg': False,\n",
       " 'Steven_Seagal_0001.jpg': False,\n",
       " 'Susan_Collins_0001.jpg': False,\n",
       " 'Teri_ORourke_0001.jpg': True,\n",
       " 'Tim_Floyd_0001.jpg': False,\n",
       " 'Tonga_0001.jpg': False,\n",
       " 'Trudi_Lacey_0001.jpg': True,\n",
       " 'Uthai_Pimchaichon_0001.jpg': False,\n",
       " 'Yoo_Jay-Kun_0001.jpg': True}"
      ]
     },
     "execution_count": 54,
     "metadata": {},
     "output_type": "execute_result"
    }
   ],
   "source": [
    "img_to_label"
   ]
  },
  {
   "cell_type": "code",
   "execution_count": 55,
   "metadata": {
    "collapsed": false
   },
   "outputs": [],
   "source": [
    "Y = []\n",
    "image_path = []\n",
    "count = 0\n",
    "for i in img_to_label:\n",
    "    Y.append(img_to_label[i])\n",
    "    image_path.append(\"./all_images/\"+i)\n",
    "    count+=1"
   ]
  },
  {
   "cell_type": "code",
   "execution_count": 56,
   "metadata": {
    "collapsed": false
   },
   "outputs": [
    {
     "data": {
      "text/plain": [
       "SVC(C=1.0, cache_size=200, class_weight=None, coef0=0.0,\n",
       "  decision_function_shape=None, degree=3, gamma='auto', kernel='rbf',\n",
       "  max_iter=-1, probability=False, random_state=None, shrinking=True,\n",
       "  tol=0.001, verbose=False)"
      ]
     },
     "execution_count": 56,
     "metadata": {},
     "output_type": "execute_result"
    }
   ],
   "source": [
    "clf = svm.SVC()\n",
    "clf.fit(X[0:30], Y[0:30])  "
   ]
  },
  {
   "cell_type": "code",
   "execution_count": 57,
   "metadata": {
    "collapsed": false
   },
   "outputs": [
    {
     "name": "stdout",
     "output_type": "stream",
     "text": [
      "0.6\n",
      "0.63768115942\n"
     ]
    }
   ],
   "source": [
    "# training \n",
    "print(sum(clf.predict(X[0:30]) == Y[0:30])/float(len(Y[0:30])))\n",
    "\n",
    "# test\n",
    "print(sum(clf.predict(X[31:100]) == Y[31:100])/float(len(Y[31:100])))"
   ]
  },
  {
   "cell_type": "code",
   "execution_count": 58,
   "metadata": {
    "collapsed": false
   },
   "outputs": [
    {
     "data": {
      "text/plain": [
       "array([False, False, False, False, False, False, False, False, False,\n",
       "       False, False, False, False, False, False, False, False, False,\n",
       "       False, False, False, False, False, False, False, False, False,\n",
       "       False, False, False, False, False, False, False, False, False,\n",
       "       False, False, False, False, False, False, False, False, False,\n",
       "       False, False, False, False, False, False, False, False, False,\n",
       "       False, False, False, False, False, False, False, False, False,\n",
       "       False, False, False, False, False, False], dtype=bool)"
      ]
     },
     "execution_count": 58,
     "metadata": {},
     "output_type": "execute_result"
    }
   ],
   "source": [
    "clf.predict(X[31:100])"
   ]
  },
  {
   "cell_type": "code",
   "execution_count": 59,
   "metadata": {
    "collapsed": false
   },
   "outputs": [],
   "source": [
    "logreg = linear_model.LogisticRegression(C=1e5)"
   ]
  },
  {
   "cell_type": "code",
   "execution_count": 64,
   "metadata": {
    "collapsed": false
   },
   "outputs": [
    {
     "data": {
      "text/plain": [
       "LogisticRegression(C=100000.0, class_weight=None, dual=False,\n",
       "          fit_intercept=True, intercept_scaling=1, max_iter=100,\n",
       "          multi_class='ovr', n_jobs=1, penalty='l2', random_state=None,\n",
       "          solver='liblinear', tol=0.0001, verbose=0, warm_start=False)"
      ]
     },
     "execution_count": 64,
     "metadata": {},
     "output_type": "execute_result"
    }
   ],
   "source": [
    "logreg.fit(X[0:50], Y[0:50])"
   ]
  },
  {
   "cell_type": "code",
   "execution_count": 65,
   "metadata": {
    "collapsed": false
   },
   "outputs": [
    {
     "name": "stdout",
     "output_type": "stream",
     "text": [
      "0.64\n",
      "0.612244897959\n"
     ]
    }
   ],
   "source": [
    "# training \n",
    "print(sum(logreg.predict(X[0:50]) == Y[0:50])/float(len(Y[0:50])))\n",
    "\n",
    "# test\n",
    "print(sum(logreg.predict(X[51:100]) == Y[51:100])/float(len(Y[51:100])))"
   ]
  },
  {
   "cell_type": "code",
   "execution_count": 66,
   "metadata": {
    "collapsed": false
   },
   "outputs": [
    {
     "data": {
      "text/plain": [
       "array([False, False, False, False, False, False, False, False, False,\n",
       "       False, False, False, False, False, False, False, False, False,\n",
       "       False, False, False, False, False, False, False, False, False,\n",
       "       False, False, False, False, False, False, False, False, False,\n",
       "       False, False, False, False, False, False, False, False, False,\n",
       "       False, False, False, False, False, False, False, False, False,\n",
       "       False, False, False, False, False, False, False, False, False,\n",
       "       False, False, False, False, False, False], dtype=bool)"
      ]
     },
     "execution_count": 66,
     "metadata": {},
     "output_type": "execute_result"
    }
   ],
   "source": [
    "logreg.predict(X[31:100])"
   ]
  },
  {
   "cell_type": "code",
   "execution_count": 68,
   "metadata": {
    "collapsed": false
   },
   "outputs": [
    {
     "data": {
      "text/plain": [
       "array([False, False, False, False, False, False, False, False, False,\n",
       "       False, False, False, False, False, False, False, False, False,\n",
       "       False, False, False, False, False, False, False, False, False,\n",
       "       False, False, False, False, False, False, False, False, False,\n",
       "       False, False, False, False, False, False, False, False, False,\n",
       "       False, False, False, False, False], dtype=bool)"
      ]
     },
     "execution_count": 68,
     "metadata": {},
     "output_type": "execute_result"
    }
   ],
   "source": [
    "logreg.predict(X[0:50])"
   ]
  },
  {
   "cell_type": "code",
   "execution_count": null,
   "metadata": {
    "collapsed": true
   },
   "outputs": [],
   "source": []
  },
  {
   "cell_type": "code",
   "execution_count": null,
   "metadata": {
    "collapsed": true
   },
   "outputs": [],
   "source": []
  }
 ],
 "metadata": {
  "kernelspec": {
   "display_name": "Python 2",
   "language": "python",
   "name": "python2"
  },
  "language_info": {
   "codemirror_mode": {
    "name": "ipython",
    "version": 2
   },
   "file_extension": ".py",
   "mimetype": "text/x-python",
   "name": "python",
   "nbconvert_exporter": "python",
   "pygments_lexer": "ipython2",
   "version": "2.7.11"
  }
 },
 "nbformat": 4,
 "nbformat_minor": 0
}
