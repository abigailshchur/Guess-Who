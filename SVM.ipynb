{
 "cells": [
  {
   "cell_type": "code",
   "execution_count": null,
   "metadata": {
    "collapsed": true
   },
   "outputs": [],
   "source": [
    "from sklearn import datasets, svm, metrics"
   ]
  },
  {
   "cell_type": "code",
   "execution_count": 28,
   "metadata": {
    "collapsed": true
   },
   "outputs": [],
   "source": [
    "from os import rename, listdir, makedirs\n",
    "from os.path import isfile, join\n",
    "import os\n",
    "import random\n",
    "from shutil import copyfile\n",
    "import glob"
   ]
  },
  {
   "cell_type": "code",
   "execution_count": 38,
   "metadata": {
    "collapsed": false
   },
   "outputs": [],
   "source": [
    "all_images = [f for f in listdir(\"./all_images/\") if isfile(join(\"./all_images/\", f))]\n",
    "random24 = random.sample(all_images, 24)\n",
    "if not os.path.exists(\"new_pics\"):\n",
    "    makedirs(\"new_pics\")\n",
    "test = '/path/*'\n",
    "r = glob.glob(\"./new_pics/*\")\n",
    "for i in r:\n",
    "    os.remove(i)\n",
    "for i in range(len(random24)):\n",
    "    copyfile(\"./all_images/\"+random24[i], \"./new_pics/pic\"+str(i)+\".jpg\")"
   ]
  },
  {
   "cell_type": "code",
   "execution_count": 36,
   "metadata": {
    "collapsed": false
   },
   "outputs": [
    {
     "data": {
      "text/plain": [
       "['./new_pics/Albert_Montanes_0001.jpg',\n",
       " './new_pics/Alex_Holmes_0001.jpg',\n",
       " './new_pics/Antonio_Palocci_0001.jpg',\n",
       " './new_pics/Arye_Mekel_0001.jpg',\n",
       " './new_pics/Cathryn_Crawford_0001.jpg',\n",
       " './new_pics/Daniel_Osorno_0001.jpg',\n",
       " './new_pics/Daryl_Jones_0001.jpg',\n",
       " './new_pics/David_Obey_0001.jpg',\n",
       " './new_pics/Desmon_Farmer_0001.jpg',\n",
       " './new_pics/Diana_Ross_0001.jpg',\n",
       " './new_pics/Emily_Mortimer_0001.jpg',\n",
       " './new_pics/Fidel_Castro_Daiz-Balart_0001.jpg',\n",
       " './new_pics/Florencia_Macri_0001.jpg',\n",
       " './new_pics/Gregor_Gysi_0001.jpg',\n",
       " './new_pics/Hugh_Carey_0001.jpg',\n",
       " './new_pics/Jerry_Jones_0001.jpg',\n",
       " './new_pics/Jerry_Springer_0001.jpg',\n",
       " './new_pics/Johnny_Tapia_0001.jpg',\n",
       " './new_pics/Koichi_Haraguchi_0001.jpg',\n",
       " './new_pics/Laurie_Laychak_0001.jpg',\n",
       " './new_pics/Lesley_Coppin_0001.jpg',\n",
       " './new_pics/Mario_Cipollini_0001.jpg',\n",
       " './new_pics/Mary_Maddux_0001.jpg',\n",
       " './new_pics/Michael_Weiss_0001.jpg',\n",
       " './new_pics/Mitchell_Crooks_0001.jpg',\n",
       " './new_pics/Mohamed_Seineldin_0001.jpg',\n",
       " './new_pics/Nur_Jaafar_0001.jpg',\n",
       " './new_pics/Rick_Husband_0001.jpg',\n",
       " './new_pics/Roger_Etchegaray_0001.jpg',\n",
       " './new_pics/Roy_Halladay_0001.jpg',\n",
       " './new_pics/Samuel_Waksal_0001.jpg',\n",
       " './new_pics/Shimon_Peres_0001.jpg',\n",
       " './new_pics/Sid_Caesar_0001.jpg',\n",
       " './new_pics/Susan_Collins_0001.jpg',\n",
       " './new_pics/Tonga_0001.jpg',\n",
       " './new_pics/Uthai_Pimchaichon_0001.jpg',\n",
       " './new_pics/Yoo_Jay-Kun_0001.jpg']"
      ]
     },
     "execution_count": 36,
     "metadata": {},
     "output_type": "execute_result"
    }
   ],
   "source": [
    "r"
   ]
  },
  {
   "cell_type": "code",
   "execution_count": null,
   "metadata": {
    "collapsed": true
   },
   "outputs": [],
   "source": []
  }
 ],
 "metadata": {
  "kernelspec": {
   "display_name": "Python 2",
   "language": "python",
   "name": "python2"
  },
  "language_info": {
   "codemirror_mode": {
    "name": "ipython",
    "version": 2
   },
   "file_extension": ".py",
   "mimetype": "text/x-python",
   "name": "python",
   "nbconvert_exporter": "python",
   "pygments_lexer": "ipython2",
   "version": "2.7.11"
  }
 },
 "nbformat": 4,
 "nbformat_minor": 0
}
