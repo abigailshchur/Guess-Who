{
 "cells": [
  {
   "cell_type": "code",
   "execution_count": 47,
   "metadata": {
    "collapsed": false
   },
   "outputs": [],
   "source": [
    "from sklearn import datasets, svm, metrics\n",
    "import csv\n",
    "from os import rename, listdir, makedirs\n",
    "from os.path import isfile, join\n",
    "import os\n",
    "import random\n",
    "from shutil import copyfile\n",
    "import glob\n",
    "import pandas as pd\n",
    "from numpy import genfromtxt\n",
    "from IPython.display import Image, display\n",
    "from StringIO import StringIO\n",
    "import cv2\n",
    "from sklearn.feature_extraction import image\n",
    "import numpy as np\n",
    "#from PIL import Image\n",
    "import Image\n",
    "from svgpathtools import svg2paths, wsvg"
   ]
  },
  {
   "cell_type": "code",
   "execution_count": 48,
   "metadata": {
    "collapsed": false
   },
   "outputs": [],
   "source": [
    "all_images = [f for f in listdir(\"./all_images/\") if isfile(join(\"./all_images/\", f))]\n",
    "labels = pd.read_csv(\"pics3_labeling-100v2.csv\")"
   ]
  },
  {
   "cell_type": "code",
   "execution_count": 49,
   "metadata": {
    "collapsed": false
   },
   "outputs": [],
   "source": [
    "matrix = genfromtxt('matrix.csv', delimiter=',').T"
   ]
  },
  {
   "cell_type": "code",
   "execution_count": 50,
   "metadata": {
    "collapsed": false
   },
   "outputs": [
    {
     "data": {
      "text/plain": [
       "(100, 4000)"
      ]
     },
     "execution_count": 50,
     "metadata": {},
     "output_type": "execute_result"
    }
   ],
   "source": [
    "np.shape(matrix)"
   ]
  },
  {
   "cell_type": "code",
   "execution_count": 51,
   "metadata": {
    "collapsed": false
   },
   "outputs": [],
   "source": [
    "#display(Image(filename=\"./all_images/\"+all_images[0]))"
   ]
  },
  {
   "cell_type": "code",
   "execution_count": 57,
   "metadata": {
    "collapsed": false
   },
   "outputs": [],
   "source": [
    "X = np.zeros(np.shape(matrix))\n",
    "all_names = labels[\"Name\"]\n",
    "isMale = labels[\"other faces\"]\n",
    "img_to_label = {}\n",
    "for i in range(len(all_names)):\n",
    "    name_i = all_names[i]\n",
    "    for j in range(len(all_images)):\n",
    "        name_j = all_images[j]\n",
    "        if name_i[:len(name_i)-1]==name_j[:len(name_j)-9]:\n",
    "            if isMale[i]==\"Y\":\n",
    "                img_to_label[name_j] = True\n",
    "            else:\n",
    "                img_to_label[name_j] = False"
   ]
  },
  {
   "cell_type": "code",
   "execution_count": 58,
   "metadata": {
    "collapsed": false
   },
   "outputs": [
    {
     "data": {
      "text/plain": [
       "{'Agnes_Bruckner_0001.jpg': False,\n",
       " 'Ahmed_Lopez_0001.jpg': False,\n",
       " 'Albert_Montanes_0001.jpg': False,\n",
       " 'Alejandro_Toledo_0001.jpg': False,\n",
       " 'Alex_Holmes_0001.jpg': False,\n",
       " 'Ali_Bin_Hussein_0001.jpg': False,\n",
       " 'Andrew_Niccol_0001.jpg': True,\n",
       " 'Antonio_Palocci_0001.jpg': False,\n",
       " 'Arnold_Palmer_0001.jpg': False,\n",
       " 'Arnoldo_Aleman_0001.jpg': True,\n",
       " 'Arye_Mekel_0001.jpg': False,\n",
       " 'Biljana_Plavsic_0001.jpg': False,\n",
       " 'Bob_Ferguson_0001.jpg': False,\n",
       " 'Brenda_Wilson_0001.jpg': False,\n",
       " 'Bruce_Weber_0001.jpg': False,\n",
       " 'Cathryn_Crawford_0001.jpg': True,\n",
       " 'Cesar_Gaviria_0001.jpg': False,\n",
       " 'Daniel_Osorno_0001.jpg': False,\n",
       " 'Daniele_Hypolito_0001.jpg': False,\n",
       " 'Daryl_Jones_0001.jpg': False,\n",
       " 'David_Obey_0001.jpg': True,\n",
       " 'Desmon_Farmer_0001.jpg': False,\n",
       " 'Diana_Ross_0001.jpg': False,\n",
       " 'Dominik_Garcia-Lorido_0001.jpg': False,\n",
       " 'Don_Carcieri_0001.jpg': False,\n",
       " 'Doug_Racine_0001.jpg': True,\n",
       " 'Emily_Mortimer_0001.jpg': False,\n",
       " 'Fernando_Sanz_0001.jpg': True,\n",
       " 'Fidel_Castro_Daiz-Balart_0001.jpg': True,\n",
       " 'Florencia_Macri_0001.jpg': False,\n",
       " 'Frank_Cassell_0001.jpg': False,\n",
       " 'Gaston_Gaudio_0001.jpg': False,\n",
       " 'Gregor_Gysi_0001.jpg': True,\n",
       " 'Hama_Arba_Diallo_0001.jpg': False,\n",
       " 'Hatsui_Hasuike_0001.jpg': False,\n",
       " 'Henning_Scherf_0001.jpg': False,\n",
       " 'Hubert_Green_0001.jpg': False,\n",
       " 'Hugh_Carey_0001.jpg': True,\n",
       " 'Igor_Ivanov_0001.jpg': True,\n",
       " 'Jack_LaLanne_0001.jpg': False,\n",
       " 'Jan_Pronk_0001.jpg': True,\n",
       " 'Jerry_Jones_0001.jpg': True,\n",
       " 'Jerry_Springer_0001.jpg': False,\n",
       " 'Jessica_Lange_0001.jpg': True,\n",
       " 'Jim_Anderson_0001.jpg': False,\n",
       " 'Job_Cohen_0001.jpg': False,\n",
       " 'John_Baldacci_0001.jpg': False,\n",
       " 'Johnny_Tapia_0001.jpg': False,\n",
       " 'Jose_Serra_0001.jpg': False,\n",
       " 'Judy_Dean_0001.jpg': False,\n",
       " 'Juergen_Chrobog_0001.jpg': False,\n",
       " 'Julio_Rossi_0001.jpg': True,\n",
       " 'Kathleen_Kennedy_Townsend_0001.jpg': False,\n",
       " 'Koichi_Haraguchi_0001.jpg': True,\n",
       " 'Laurie_Laychak_0001.jpg': True,\n",
       " 'Leisel_Jones_0001.jpg': False,\n",
       " 'Lesley_Coppin_0001.jpg': True,\n",
       " 'Lili_Marinho_0001.jpg': False,\n",
       " 'Lisa_Ling_0001.jpg': False,\n",
       " 'Loretta_Lynn_Harper_0001.jpg': True,\n",
       " 'Luke_Ridnour_0001.jpg': False,\n",
       " 'Mario_Cipollini_0001.jpg': False,\n",
       " 'Marsah_Ambrosius_0001.jpg': True,\n",
       " 'Marsha_Thomason_0001.jpg': False,\n",
       " 'Mary_Maddux_0001.jpg': True,\n",
       " 'Michael_Weiss_0001.jpg': False,\n",
       " 'Mike_Farrar_0001.jpg': False,\n",
       " 'Mireille_Jospin-Dandieu_0001.jpg': False,\n",
       " 'Missy_Crider_0001.jpg': False,\n",
       " 'Mitchell_Crooks_0001.jpg': False,\n",
       " 'Mo_Elleithee_0001.jpg': True,\n",
       " 'Mohamed_Seineldin_0001.jpg': False,\n",
       " 'Nur_Jaafar_0001.jpg': False,\n",
       " 'Peter_Hillary_0001.jpg': False,\n",
       " 'Prince_Philippe_0001.jpg': True,\n",
       " 'Quin_Snyder_0001.jpg': True,\n",
       " 'Ramiro_Goben_Reducindo_0001.jpg': False,\n",
       " 'Rick_Husband_0001.jpg': False,\n",
       " 'Robert_Nardelli_0001.jpg': False,\n",
       " 'Robert_Wagner_0001.jpg': True,\n",
       " 'Roger_Etchegaray_0001.jpg': False,\n",
       " 'Rosalyn_Carter_0001.jpg': True,\n",
       " 'Roy_Halladay_0001.jpg': False,\n",
       " 'Saman_Shali_0001.jpg': True,\n",
       " 'Samuel_Waksal_0001.jpg': True,\n",
       " 'Sarah_Wynter_0001.jpg': True,\n",
       " 'Sergei_Alexandrovitch_Ordzhonikidze_0001.jpg': True,\n",
       " 'Shane_Hmiel_0001.jpg': False,\n",
       " 'Shimon_Peres_0001.jpg': False,\n",
       " 'Sid_Caesar_0001.jpg': True,\n",
       " 'Stacey_Yamaguchi_0001.jpg': True,\n",
       " 'Stephen_Push_0001.jpg': False,\n",
       " 'Steven_Seagal_0001.jpg': False,\n",
       " 'Susan_Collins_0001.jpg': True,\n",
       " 'Teri_ORourke_0001.jpg': False,\n",
       " 'Tim_Floyd_0001.jpg': False,\n",
       " 'Tonga_0001.jpg': False,\n",
       " 'Trudi_Lacey_0001.jpg': False,\n",
       " 'Uthai_Pimchaichon_0001.jpg': False,\n",
       " 'Yoo_Jay-Kun_0001.jpg': False}"
      ]
     },
     "execution_count": 58,
     "metadata": {},
     "output_type": "execute_result"
    }
   ],
   "source": [
    "img_to_label"
   ]
  },
  {
   "cell_type": "code",
   "execution_count": 59,
   "metadata": {
    "collapsed": false
   },
   "outputs": [],
   "source": [
    "Y = []\n",
    "image_path = []\n",
    "count = 0\n",
    "for i in img_to_label:\n",
    "    Y.append(img_to_label[i])\n",
    "    image_path.append(\"./all_images/\"+i)\n",
    "    count+=1"
   ]
  },
  {
   "cell_type": "code",
   "execution_count": 60,
   "metadata": {
    "collapsed": false
   },
   "outputs": [
    {
     "data": {
      "text/plain": [
       "SVC(C=1.0, cache_size=200, class_weight=None, coef0=0.0,\n",
       "  decision_function_shape=None, degree=3, gamma='auto', kernel='rbf',\n",
       "  max_iter=-1, probability=False, random_state=None, shrinking=True,\n",
       "  tol=0.001, verbose=False)"
      ]
     },
     "execution_count": 60,
     "metadata": {},
     "output_type": "execute_result"
    }
   ],
   "source": [
    "clf = svm.SVC()\n",
    "clf.fit(X[0:50], Y[0:50])  "
   ]
  },
  {
   "cell_type": "code",
   "execution_count": 62,
   "metadata": {
    "collapsed": false
   },
   "outputs": [
    {
     "name": "stdout",
     "output_type": "stream",
     "text": [
      "0.6\n",
      "0.755102040816\n"
     ]
    }
   ],
   "source": [
    "# training \n",
    "print(sum(clf.predict(X[0:50]) == Y[0:50])/float(len(Y[0:50])))\n",
    "\n",
    "# test\n",
    "print(sum(clf.predict(X[51:100]) == Y[51:100])/float(len(Y[51:100])))"
   ]
  },
  {
   "cell_type": "code",
   "execution_count": 113,
   "metadata": {
    "collapsed": false
   },
   "outputs": [
    {
     "data": {
      "text/plain": [
       "array([ True,  True,  True,  True,  True,  True,  True,  True,  True,\n",
       "        True,  True,  True,  True,  True,  True,  True,  True,  True,\n",
       "        True,  True,  True,  True,  True,  True,  True,  True,  True,\n",
       "        True,  True,  True,  True,  True,  True,  True,  True,  True,\n",
       "        True,  True,  True,  True,  True,  True,  True,  True,  True,\n",
       "        True,  True,  True,  True], dtype=bool)"
      ]
     },
     "execution_count": 113,
     "metadata": {},
     "output_type": "execute_result"
    }
   ],
   "source": [
    "clf.predict(X[51:100])"
   ]
  },
  {
   "cell_type": "code",
   "execution_count": 5,
   "metadata": {
    "collapsed": false
   },
   "outputs": [],
   "source": [
    "paths, attributes, svg_attributes = svg2paths2('./pics2/pic2.svg')"
   ]
  },
  {
   "cell_type": "code",
   "execution_count": 6,
   "metadata": {
    "collapsed": false
   },
   "outputs": [
    {
     "data": {
      "text/plain": [
       "[]"
      ]
     },
     "execution_count": 6,
     "metadata": {},
     "output_type": "execute_result"
    }
   ],
   "source": [
    "paths"
   ]
  },
  {
   "cell_type": "code",
   "execution_count": 10,
   "metadata": {
    "collapsed": false
   },
   "outputs": [],
   "source": [
    "paths, attributes = svg2paths('./pics2/pic2.svg')"
   ]
  },
  {
   "cell_type": "code",
   "execution_count": 12,
   "metadata": {
    "collapsed": false
   },
   "outputs": [
    {
     "data": {
      "text/plain": [
       "[]"
      ]
     },
     "execution_count": 12,
     "metadata": {},
     "output_type": "execute_result"
    }
   ],
   "source": [
    "attributes"
   ]
  }
 ],
 "metadata": {
  "kernelspec": {
   "display_name": "Python 2",
   "language": "python",
   "name": "python2"
  },
  "language_info": {
   "codemirror_mode": {
    "name": "ipython",
    "version": 2
   },
   "file_extension": ".py",
   "mimetype": "text/x-python",
   "name": "python",
   "nbconvert_exporter": "python",
   "pygments_lexer": "ipython2",
   "version": "2.7.11"
  }
 },
 "nbformat": 4,
 "nbformat_minor": 0
}
