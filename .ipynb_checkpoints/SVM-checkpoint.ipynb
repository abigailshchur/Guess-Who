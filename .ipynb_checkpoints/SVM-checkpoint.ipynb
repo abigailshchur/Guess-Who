{
 "cells": [
  {
   "cell_type": "code",
   "execution_count": 36,
   "metadata": {
    "collapsed": false
   },
   "outputs": [],
   "source": [
    "from sklearn import datasets, svm, metrics\n",
    "import csv\n",
    "from os import rename, listdir, makedirs\n",
    "from os.path import isfile, join\n",
    "import os\n",
    "import random\n",
    "from shutil import copyfile\n",
    "import glob\n",
    "import pandas as pd\n",
    "from numpy import genfromtxt\n",
    "from IPython.display import Image, display\n",
    "from StringIO import StringIO\n",
    "import cv2\n",
    "from sklearn.feature_extraction import image\n",
    "import numpy as np\n",
    "#from PIL import Image\n",
    "import Image"
   ]
  },
  {
   "cell_type": "code",
   "execution_count": 14,
   "metadata": {
    "collapsed": false
   },
   "outputs": [],
   "source": [
    "all_images = [f for f in listdir(\"./all_images/\") if isfile(join(\"./all_images/\", f))]\n",
    "labels = pd.read_csv(\"pics3_labeling-100.csv\")"
   ]
  },
  {
   "cell_type": "code",
   "execution_count": 15,
   "metadata": {
    "collapsed": false
   },
   "outputs": [],
   "source": [
    "#display(Image(filename=\"./all_images/\"+all_images[0]))"
   ]
  },
  {
   "cell_type": "code",
   "execution_count": 33,
   "metadata": {
    "collapsed": false
   },
   "outputs": [],
   "source": [
    "all_names = labels[\"Name\"]\n",
    "isMale = labels[\"Male\"]\n",
    "img_to_label = {}\n",
    "for i in range(len(all_names)):\n",
    "    name_i = all_names[i]\n",
    "    for j in range(len(all_images)):\n",
    "        name_j = all_images[j]\n",
    "        if name_i[:len(name_i)-1]==name_j[:len(name_j)-9]:\n",
    "            if isMale[i]==\"Y\":\n",
    "                img_to_label[name_j] = True\n",
    "            else:\n",
    "                img_to_label[name_j] = False"
   ]
  },
  {
   "cell_type": "code",
   "execution_count": 84,
   "metadata": {
    "collapsed": true
   },
   "outputs": [],
   "source": [
    "def img_to_vec(filename):\n",
    "    img = Image.open(\"./all_images/\"+filename).convert('RGBA')\n",
    "    arr = np.array(img)\n",
    "    # record the original shape\n",
    "    shape = arr.shape\n",
    "    # make a 1-dimensional view of arr\n",
    "    flat_arr = arr.ravel()\n",
    "    return flat_arr"
   ]
  },
  {
   "cell_type": "code",
   "execution_count": 104,
   "metadata": {
    "collapsed": false
   },
   "outputs": [],
   "source": [
    "X = np.zeros((100,250000))\n",
    "Y = []\n",
    "image_path = []\n",
    "count = 0\n",
    "for i in img_to_label:\n",
    "    X[count] = img_to_vec(i)\n",
    "    Y.append(img_to_label[i])\n",
    "    image_path.append(\"./all_images/\"+i)\n",
    "    count+=1"
   ]
  },
  {
   "cell_type": "code",
   "execution_count": 105,
   "metadata": {
    "collapsed": false
   },
   "outputs": [
    {
     "data": {
      "text/plain": [
       "SVC(C=1.0, cache_size=200, class_weight=None, coef0=0.0,\n",
       "  decision_function_shape=None, degree=3, gamma='auto', kernel='rbf',\n",
       "  max_iter=-1, probability=False, random_state=None, shrinking=True,\n",
       "  tol=0.001, verbose=False)"
      ]
     },
     "execution_count": 105,
     "metadata": {},
     "output_type": "execute_result"
    }
   ],
   "source": [
    "clf = svm.SVC()\n",
    "clf.fit(X[0:50], Y[0:50])  "
   ]
  },
  {
   "cell_type": "code",
   "execution_count": 112,
   "metadata": {
    "collapsed": false
   },
   "outputs": [
    {
     "name": "stdout",
     "output_type": "stream",
     "text": [
      "1.0\n",
      "0.673469387755\n"
     ]
    }
   ],
   "source": [
    "# training \n",
    "print(sum(clf.predict(X[0:50]) == Y[0:50])/float(len(Y[0:50])))\n",
    "\n",
    "# test\n",
    "print(sum(clf.predict(X[51:100]) == Y[51:100])/float(len(Y[51:100])))"
   ]
  },
  {
   "cell_type": "code",
   "execution_count": 113,
   "metadata": {
    "collapsed": false
   },
   "outputs": [
    {
     "data": {
      "text/plain": [
       "array([ True,  True,  True,  True,  True,  True,  True,  True,  True,\n",
       "        True,  True,  True,  True,  True,  True,  True,  True,  True,\n",
       "        True,  True,  True,  True,  True,  True,  True,  True,  True,\n",
       "        True,  True,  True,  True,  True,  True,  True,  True,  True,\n",
       "        True,  True,  True,  True,  True,  True,  True,  True,  True,\n",
       "        True,  True,  True,  True], dtype=bool)"
      ]
     },
     "execution_count": 113,
     "metadata": {},
     "output_type": "execute_result"
    }
   ],
   "source": [
    "clf.predict(X[51:100])"
   ]
  },
  {
   "cell_type": "code",
   "execution_count": null,
   "metadata": {
    "collapsed": true
   },
   "outputs": [],
   "source": []
  }
 ],
 "metadata": {
  "kernelspec": {
   "display_name": "Python 2",
   "language": "python",
   "name": "python2"
  },
  "language_info": {
   "codemirror_mode": {
    "name": "ipython",
    "version": 2
   },
   "file_extension": ".py",
   "mimetype": "text/x-python",
   "name": "python",
   "nbconvert_exporter": "python",
   "pygments_lexer": "ipython2",
   "version": "2.7.11"
  }
 },
 "nbformat": 4,
 "nbformat_minor": 0
}
